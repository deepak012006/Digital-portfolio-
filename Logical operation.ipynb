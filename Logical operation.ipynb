{
  "cells": [
    {
      "cell_type": "markdown",
      "metadata": {
        "id": "view-in-github",
        "colab_type": "text"
      },
      "source": [
        "<a href=\"https://colab.research.google.com/github/deepak012006/Digital-portfolio-/blob/main/Logical%20operation.ipynb\" target=\"_parent\"><img src=\"https://colab.research.google.com/assets/colab-badge.svg\" alt=\"Open In Colab\"/></a>"
      ]
    },
    {
      "cell_type": "markdown",
      "source": [
        "Logical operation"
      ],
      "metadata": {
        "id": "WGkoFCF0oPKC"
      }
    },
    {
      "cell_type": "code",
      "source": [
        "# Declare variables\n",
        "A = True\n",
        "B = False\n",
        "\n",
        "# Logical AND\n",
        "print(\"A and B:\", A and B)\n",
        "\n",
        "# Logical OR\n",
        "print(\"A or B:\", A or B)\n",
        "\n",
        "# Logical NOT\n",
        "print(\"not A:\", not A)\n",
        "print(\"not B:\", not B)"
      ],
      "metadata": {
        "id": "oLwebUkWob28",
        "outputId": "20a2873f-35fa-466d-90dd-d88d2478cbbb",
        "colab": {
          "base_uri": "https://localhost:8080/"
        }
      },
      "execution_count": 9,
      "outputs": [
        {
          "output_type": "stream",
          "name": "stdout",
          "text": [
            "A and B: False\n",
            "A or B: True\n",
            "not A: False\n",
            "not B: True\n"
          ]
        }
      ]
    }
  ],
  "metadata": {
    "colab": {
      "name": "Welcome To Colab",
      "provenance": [],
      "include_colab_link": true
    },
    "kernelspec": {
      "display_name": "Python 3",
      "name": "python3"
    }
  },
  "nbformat": 4,
  "nbformat_minor": 0
}