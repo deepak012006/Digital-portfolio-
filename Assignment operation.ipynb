{
  "cells": [
    {
      "cell_type": "markdown",
      "metadata": {
        "id": "view-in-github",
        "colab_type": "text"
      },
      "source": [
        "<a href=\"https://colab.research.google.com/github/deepak012006/Digital-portfolio-/blob/main/Assignment%20operation.ipynb\" target=\"_parent\"><img src=\"https://colab.research.google.com/assets/colab-badge.svg\" alt=\"Open In Colab\"/></a>"
      ]
    },
    {
      "cell_type": "markdown",
      "source": [
        "Assignment operation"
      ],
      "metadata": {
        "id": "tDn1S74onzxS"
      }
    },
    {
      "cell_type": "code",
      "source": [
        "# Declare a variable\n",
        "x = 10\n",
        "\n",
        "# Multiplication assignment\n",
        "x *= 2  # equivalent to x = x * 2\n",
        "print(\"Multiplication Assignment:\", x)\n",
        "\n",
        "# Division assignment\n",
        "x /= 2  # equivalent to x = x / 2\n",
        "print(\"Division Assignment:\", x)"
      ],
      "metadata": {
        "id": "NIDYTZWIoGsn",
        "outputId": "04dc7598-4e18-49d0-eb32-fc9533e99aa1",
        "colab": {
          "base_uri": "https://localhost:8080/"
        }
      },
      "execution_count": 8,
      "outputs": [
        {
          "output_type": "stream",
          "name": "stdout",
          "text": [
            "Multiplication Assignment: 20\n",
            "Division Assignment: 10.0\n"
          ]
        }
      ]
    }
  ],
  "metadata": {
    "colab": {
      "name": "Welcome To Colab",
      "provenance": [],
      "include_colab_link": true
    },
    "kernelspec": {
      "display_name": "Python 3",
      "name": "python3"
    }
  },
  "nbformat": 4,
  "nbformat_minor": 0
}