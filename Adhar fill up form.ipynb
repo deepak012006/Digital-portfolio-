{
  "cells": [
    {
      "cell_type": "markdown",
      "metadata": {
        "id": "view-in-github",
        "colab_type": "text"
      },
      "source": [
        "<a href=\"https://colab.research.google.com/github/deepak012006/Digital-portfolio-/blob/main/Adhar%20fill%20up%20form.ipynb\" target=\"_parent\"><img src=\"https://colab.research.google.com/assets/colab-badge.svg\" alt=\"Open In Colab\"/></a>"
      ]
    },
    {
      "cell_type": "markdown",
      "source": [
        "Adhar fill up form"
      ],
      "metadata": {
        "id": "laLkOapEunDL"
      }
    },
    {
      "cell_type": "code",
      "source": [
        "class AadhaarRegistration:\n",
        "    def __init__(self):\n",
        "        self.name = \"\"\n",
        "        self.date_of_birth = \"\"\n",
        "        self.address = \"\"\n",
        "        self.mobile_number = \"\"\n",
        "        self.email_id = \"\"\n",
        "\n",
        "    def fill_form(self):\n",
        "        self.name = input(\"Enter your full name: \")\n",
        "        self.date_of_birth = input(\"Enter your date of birth (DD/MM/YYYY): \")\n",
        "        self.address = input(\"Enter your address: \")\n",
        "        self.mobile_number = input(\"Enter your mobile number: \")\n",
        "        self.email_id = input(\"Enter your email ID: \")\n",
        "\n",
        "    def display_details(self):\n",
        "        print(\"\\nAadhaar Registration Details:\")\n",
        "        print(f\"Name: {self.name}\")\n",
        "        print(f\"Date of Birth: {self.date_of_birth}\")\n",
        "        print(f\"Address: {self.address}\")\n",
        "        print(f\"Mobile Number: {self.mobile_number}\")\n",
        "        print(f\"Email ID: {self.email_id}\")\n",
        "\n",
        "def main():\n",
        "    registration = AadhaarRegistration()\n",
        "    print(\"Aadhaar Registration Form\")\n",
        "    registration.fill_form()\n",
        "    registration.display_details()\n",
        "\n",
        "if __name__ == \"__main__\":\n",
        "    main()"
      ],
      "metadata": {
        "id": "2ViSfhcYuww9",
        "outputId": "ce9c9d15-2cd1-4dda-9e70-a1c0e73d60b7",
        "colab": {
          "base_uri": "https://localhost:8080/"
        }
      },
      "execution_count": 22,
      "outputs": [
        {
          "output_type": "stream",
          "name": "stdout",
          "text": [
            "Aadhaar Registration Form\n",
            "Enter your full name: Deepak K\n",
            "Enter your date of birth (DD/MM/YYYY): 01/02/2006\n",
            "Enter your address: No.6 bala Kumaran Nagur Kolathur Chennai -99\n",
            "Enter your mobile number: xxxxxxxx\n",
            "Enter your email ID: Abc@gmali.com\n",
            "\n",
            "Aadhaar Registration Details:\n",
            "Name: Deepak K\n",
            "Date of Birth: 01/02/2006\n",
            "Address: No.6 bala Kumaran Nagur Kolathur Chennai -99\n",
            "Mobile Number: xxxxxxxx\n",
            "Email ID: Abc@gmali.com\n"
          ]
        }
      ]
    }
  ],
  "metadata": {
    "colab": {
      "name": "Welcome To Colab",
      "provenance": [],
      "include_colab_link": true
    },
    "kernelspec": {
      "display_name": "Python 3",
      "name": "python3"
    }
  },
  "nbformat": 4,
  "nbformat_minor": 0
}