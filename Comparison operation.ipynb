{
  "cells": [
    {
      "cell_type": "markdown",
      "metadata": {
        "id": "view-in-github",
        "colab_type": "text"
      },
      "source": [
        "<a href=\"https://colab.research.google.com/github/deepak012006/Digital-portfolio-/blob/main/Comparison%20operation.ipynb\" target=\"_parent\"><img src=\"https://colab.research.google.com/assets/colab-badge.svg\" alt=\"Open In Colab\"/></a>"
      ]
    },
    {
      "cell_type": "markdown",
      "source": [
        "Comparison operation"
      ],
      "metadata": {
        "id": "ctux3xX6ospN"
      }
    },
    {
      "cell_type": "code",
      "source": [
        "# Declare variables\n",
        "A = 10\n",
        "B = 5\n",
        "\n",
        "# Comparison operators\n",
        "print(\"A == B (Equal):\", A == B)\n",
        "print(\"A != B (Not Equal):\", A != B)\n",
        "print(\"A > B (Greater Than):\", A > B)\n",
        "print(\"A < B (Less Than):\", A < B)\n",
        "print(\"A >= B (Greater Than or Equal):\", A >= B)\n",
        "print(\"A <= B (Less Than or Equal):\", A <= B)"
      ],
      "metadata": {
        "id": "AN5bNiUipQoC",
        "outputId": "057bebc2-c2a1-4398-a265-ddb954d86d43",
        "colab": {
          "base_uri": "https://localhost:8080/"
        }
      },
      "execution_count": 10,
      "outputs": [
        {
          "output_type": "stream",
          "name": "stdout",
          "text": [
            "A == B (Equal): False\n",
            "A != B (Not Equal): True\n",
            "A > B (Greater Than): True\n",
            "A < B (Less Than): False\n",
            "A >= B (Greater Than or Equal): True\n",
            "A <= B (Less Than or Equal): False\n"
          ]
        }
      ]
    }
  ],
  "metadata": {
    "colab": {
      "name": "Welcome To Colab",
      "provenance": [],
      "include_colab_link": true
    },
    "kernelspec": {
      "display_name": "Python 3",
      "name": "python3"
    }
  },
  "nbformat": 4,
  "nbformat_minor": 0
}